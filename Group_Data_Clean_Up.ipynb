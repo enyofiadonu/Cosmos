{
 "cells": [
  {
   "cell_type": "code",
   "execution_count": 1,
   "metadata": {},
   "outputs": [],
   "source": [
    "import pandas as pd"
   ]
  },
  {
   "cell_type": "code",
   "execution_count": 2,
   "metadata": {},
   "outputs": [],
   "source": [
    "place = pd.read_csv('Resources/kepler.csv/kepler.csv')"
   ]
  },
  {
   "cell_type": "code",
   "execution_count": 3,
   "metadata": {
    "scrolled": true
   },
   "outputs": [
    {
     "data": {
      "text/html": [
       "<div>\n",
       "<style scoped>\n",
       "    .dataframe tbody tr th:only-of-type {\n",
       "        vertical-align: middle;\n",
       "    }\n",
       "\n",
       "    .dataframe tbody tr th {\n",
       "        vertical-align: top;\n",
       "    }\n",
       "\n",
       "    .dataframe thead th {\n",
       "        text-align: right;\n",
       "    }\n",
       "</style>\n",
       "<table border=\"1\" class=\"dataframe\">\n",
       "  <thead>\n",
       "    <tr style=\"text-align: right;\">\n",
       "      <th></th>\n",
       "      <th># name</th>\n",
       "      <th>planet_status</th>\n",
       "      <th>mass</th>\n",
       "      <th>mass_error_min</th>\n",
       "      <th>mass_error_max</th>\n",
       "      <th>mass_sini</th>\n",
       "      <th>mass_sini_error_min</th>\n",
       "      <th>mass_sini_error_max</th>\n",
       "      <th>radius</th>\n",
       "      <th>radius_error_min</th>\n",
       "      <th>...</th>\n",
       "      <th>star_sp_type</th>\n",
       "      <th>star_age</th>\n",
       "      <th>star_age_error_min</th>\n",
       "      <th>star_age_error_max</th>\n",
       "      <th>star_teff</th>\n",
       "      <th>star_teff_error_min</th>\n",
       "      <th>star_teff_error_max</th>\n",
       "      <th>star_detected_disc</th>\n",
       "      <th>star_magnetic_field</th>\n",
       "      <th>star_alternate_names</th>\n",
       "    </tr>\n",
       "  </thead>\n",
       "  <tbody>\n",
       "    <tr>\n",
       "      <th>0</th>\n",
       "      <td>OGLE-2016-BLG-1469L b</td>\n",
       "      <td>Confirmed</td>\n",
       "      <td>13.60</td>\n",
       "      <td>3.00</td>\n",
       "      <td>3.00</td>\n",
       "      <td>NaN</td>\n",
       "      <td>NaN</td>\n",
       "      <td>NaN</td>\n",
       "      <td>NaN</td>\n",
       "      <td>NaN</td>\n",
       "      <td>...</td>\n",
       "      <td>NaN</td>\n",
       "      <td>NaN</td>\n",
       "      <td>NaN</td>\n",
       "      <td>NaN</td>\n",
       "      <td>NaN</td>\n",
       "      <td>NaN</td>\n",
       "      <td>NaN</td>\n",
       "      <td>NaN</td>\n",
       "      <td>NaN</td>\n",
       "      <td>NaN</td>\n",
       "    </tr>\n",
       "    <tr>\n",
       "      <th>1</th>\n",
       "      <td>11 Com b</td>\n",
       "      <td>Confirmed</td>\n",
       "      <td>19.40</td>\n",
       "      <td>1.50</td>\n",
       "      <td>1.50</td>\n",
       "      <td>19.40</td>\n",
       "      <td>1.50</td>\n",
       "      <td>1.50</td>\n",
       "      <td>NaN</td>\n",
       "      <td>NaN</td>\n",
       "      <td>...</td>\n",
       "      <td>G8 III</td>\n",
       "      <td>NaN</td>\n",
       "      <td>NaN</td>\n",
       "      <td>NaN</td>\n",
       "      <td>4742.0</td>\n",
       "      <td>100.0</td>\n",
       "      <td>100.0</td>\n",
       "      <td>NaN</td>\n",
       "      <td>NaN</td>\n",
       "      <td>NaN</td>\n",
       "    </tr>\n",
       "    <tr>\n",
       "      <th>2</th>\n",
       "      <td>11 Oph b</td>\n",
       "      <td>Confirmed</td>\n",
       "      <td>21.00</td>\n",
       "      <td>3.00</td>\n",
       "      <td>3.00</td>\n",
       "      <td>NaN</td>\n",
       "      <td>NaN</td>\n",
       "      <td>NaN</td>\n",
       "      <td>NaN</td>\n",
       "      <td>NaN</td>\n",
       "      <td>...</td>\n",
       "      <td>M9</td>\n",
       "      <td>0.011</td>\n",
       "      <td>0.002</td>\n",
       "      <td>0.002</td>\n",
       "      <td>2375.0</td>\n",
       "      <td>175.0</td>\n",
       "      <td>175.0</td>\n",
       "      <td>NaN</td>\n",
       "      <td>NaN</td>\n",
       "      <td>NaN</td>\n",
       "    </tr>\n",
       "    <tr>\n",
       "      <th>3</th>\n",
       "      <td>11 UMi b</td>\n",
       "      <td>Confirmed</td>\n",
       "      <td>10.50</td>\n",
       "      <td>2.47</td>\n",
       "      <td>2.47</td>\n",
       "      <td>10.50</td>\n",
       "      <td>2.47</td>\n",
       "      <td>2.47</td>\n",
       "      <td>NaN</td>\n",
       "      <td>NaN</td>\n",
       "      <td>...</td>\n",
       "      <td>K4III</td>\n",
       "      <td>1.560</td>\n",
       "      <td>0.540</td>\n",
       "      <td>0.540</td>\n",
       "      <td>4340.0</td>\n",
       "      <td>70.0</td>\n",
       "      <td>70.0</td>\n",
       "      <td>NaN</td>\n",
       "      <td>NaN</td>\n",
       "      <td>NaN</td>\n",
       "    </tr>\n",
       "    <tr>\n",
       "      <th>4</th>\n",
       "      <td>14 And b</td>\n",
       "      <td>Confirmed</td>\n",
       "      <td>5.33</td>\n",
       "      <td>0.57</td>\n",
       "      <td>0.57</td>\n",
       "      <td>5.33</td>\n",
       "      <td>0.57</td>\n",
       "      <td>0.57</td>\n",
       "      <td>NaN</td>\n",
       "      <td>NaN</td>\n",
       "      <td>...</td>\n",
       "      <td>K0III</td>\n",
       "      <td>NaN</td>\n",
       "      <td>NaN</td>\n",
       "      <td>NaN</td>\n",
       "      <td>4813.0</td>\n",
       "      <td>20.0</td>\n",
       "      <td>20.0</td>\n",
       "      <td>NaN</td>\n",
       "      <td>NaN</td>\n",
       "      <td>NaN</td>\n",
       "    </tr>\n",
       "  </tbody>\n",
       "</table>\n",
       "<p>5 rows × 98 columns</p>\n",
       "</div>"
      ],
      "text/plain": [
       "                   # name planet_status   mass  mass_error_min  \\\n",
       "0   OGLE-2016-BLG-1469L b     Confirmed  13.60            3.00   \n",
       "1                11 Com b     Confirmed  19.40            1.50   \n",
       "2                11 Oph b     Confirmed  21.00            3.00   \n",
       "3                11 UMi b     Confirmed  10.50            2.47   \n",
       "4                14 And b     Confirmed   5.33            0.57   \n",
       "\n",
       "   mass_error_max  mass_sini  mass_sini_error_min  mass_sini_error_max  \\\n",
       "0            3.00        NaN                  NaN                  NaN   \n",
       "1            1.50      19.40                 1.50                 1.50   \n",
       "2            3.00        NaN                  NaN                  NaN   \n",
       "3            2.47      10.50                 2.47                 2.47   \n",
       "4            0.57       5.33                 0.57                 0.57   \n",
       "\n",
       "   radius  radius_error_min  ...  star_sp_type  star_age  star_age_error_min  \\\n",
       "0     NaN               NaN  ...           NaN       NaN                 NaN   \n",
       "1     NaN               NaN  ...        G8 III       NaN                 NaN   \n",
       "2     NaN               NaN  ...            M9     0.011               0.002   \n",
       "3     NaN               NaN  ...         K4III     1.560               0.540   \n",
       "4     NaN               NaN  ...         K0III       NaN                 NaN   \n",
       "\n",
       "   star_age_error_max  star_teff  star_teff_error_min  star_teff_error_max  \\\n",
       "0                 NaN        NaN                  NaN                  NaN   \n",
       "1                 NaN     4742.0                100.0                100.0   \n",
       "2               0.002     2375.0                175.0                175.0   \n",
       "3               0.540     4340.0                 70.0                 70.0   \n",
       "4                 NaN     4813.0                 20.0                 20.0   \n",
       "\n",
       "   star_detected_disc  star_magnetic_field  star_alternate_names  \n",
       "0                 NaN                  NaN                   NaN  \n",
       "1                 NaN                  NaN                   NaN  \n",
       "2                 NaN                  NaN                   NaN  \n",
       "3                 NaN                  NaN                   NaN  \n",
       "4                 NaN                  NaN                   NaN  \n",
       "\n",
       "[5 rows x 98 columns]"
      ]
     },
     "execution_count": 3,
     "metadata": {},
     "output_type": "execute_result"
    }
   ],
   "source": [
    "place.head()"
   ]
  },
  {
   "cell_type": "code",
   "execution_count": 8,
   "metadata": {},
   "outputs": [],
   "source": [
    "exoplanet = place[['# name','planet_status','mass','orbital_period','semi_major_axis','eccentricity','discovered','detection_type','star_name']].copy()"
   ]
  },
  {
   "cell_type": "code",
   "execution_count": 20,
   "metadata": {},
   "outputs": [],
   "source": [
    "exoplanet_df = exoplanet.dropna(axis='rows').reset_index()"
   ]
  },
  {
   "cell_type": "code",
   "execution_count": 31,
   "metadata": {},
   "outputs": [],
   "source": [
    "exoplanet_df = exoplanet_df[['# name','planet_status','mass','orbital_period','semi_major_axis','eccentricity','discovered','detection_type','star_name']]"
   ]
  },
  {
   "cell_type": "code",
   "execution_count": 32,
   "metadata": {},
   "outputs": [
    {
     "data": {
      "text/html": [
       "<div>\n",
       "<style scoped>\n",
       "    .dataframe tbody tr th:only-of-type {\n",
       "        vertical-align: middle;\n",
       "    }\n",
       "\n",
       "    .dataframe tbody tr th {\n",
       "        vertical-align: top;\n",
       "    }\n",
       "\n",
       "    .dataframe thead th {\n",
       "        text-align: right;\n",
       "    }\n",
       "</style>\n",
       "<table border=\"1\" class=\"dataframe\">\n",
       "  <thead>\n",
       "    <tr style=\"text-align: right;\">\n",
       "      <th></th>\n",
       "      <th># name</th>\n",
       "      <th>planet_status</th>\n",
       "      <th>mass</th>\n",
       "      <th>orbital_period</th>\n",
       "      <th>semi_major_axis</th>\n",
       "      <th>eccentricity</th>\n",
       "      <th>discovered</th>\n",
       "      <th>detection_type</th>\n",
       "      <th>star_name</th>\n",
       "    </tr>\n",
       "  </thead>\n",
       "  <tbody>\n",
       "    <tr>\n",
       "      <th>0</th>\n",
       "      <td>11 Com b</td>\n",
       "      <td>Confirmed</td>\n",
       "      <td>19.400</td>\n",
       "      <td>326.03000</td>\n",
       "      <td>1.2900</td>\n",
       "      <td>0.23100</td>\n",
       "      <td>2008.0</td>\n",
       "      <td>Radial Velocity</td>\n",
       "      <td>11 Com</td>\n",
       "    </tr>\n",
       "    <tr>\n",
       "      <th>1</th>\n",
       "      <td>11 UMi b</td>\n",
       "      <td>Confirmed</td>\n",
       "      <td>10.500</td>\n",
       "      <td>516.22000</td>\n",
       "      <td>1.5400</td>\n",
       "      <td>0.08000</td>\n",
       "      <td>2009.0</td>\n",
       "      <td>Radial Velocity</td>\n",
       "      <td>11 UMi</td>\n",
       "    </tr>\n",
       "    <tr>\n",
       "      <th>2</th>\n",
       "      <td>14 And b</td>\n",
       "      <td>Confirmed</td>\n",
       "      <td>5.330</td>\n",
       "      <td>185.84000</td>\n",
       "      <td>0.8300</td>\n",
       "      <td>0.00000</td>\n",
       "      <td>2008.0</td>\n",
       "      <td>Radial Velocity</td>\n",
       "      <td>14 And</td>\n",
       "    </tr>\n",
       "    <tr>\n",
       "      <th>3</th>\n",
       "      <td>14 Her b</td>\n",
       "      <td>Confirmed</td>\n",
       "      <td>4.640</td>\n",
       "      <td>1773.40000</td>\n",
       "      <td>2.7700</td>\n",
       "      <td>0.36900</td>\n",
       "      <td>2002.0</td>\n",
       "      <td>Radial Velocity</td>\n",
       "      <td>14 Her</td>\n",
       "    </tr>\n",
       "    <tr>\n",
       "      <th>4</th>\n",
       "      <td>16 Cyg B b</td>\n",
       "      <td>Confirmed</td>\n",
       "      <td>1.680</td>\n",
       "      <td>799.50000</td>\n",
       "      <td>1.6800</td>\n",
       "      <td>0.68900</td>\n",
       "      <td>1996.0</td>\n",
       "      <td>Radial Velocity</td>\n",
       "      <td>16 Cyg B</td>\n",
       "    </tr>\n",
       "    <tr>\n",
       "      <th>...</th>\n",
       "      <td>...</td>\n",
       "      <td>...</td>\n",
       "      <td>...</td>\n",
       "      <td>...</td>\n",
       "      <td>...</td>\n",
       "      <td>...</td>\n",
       "      <td>...</td>\n",
       "      <td>...</td>\n",
       "      <td>...</td>\n",
       "    </tr>\n",
       "    <tr>\n",
       "      <th>1160</th>\n",
       "      <td>tau Gem b</td>\n",
       "      <td>Confirmed</td>\n",
       "      <td>20.600</td>\n",
       "      <td>305.50000</td>\n",
       "      <td>1.1700</td>\n",
       "      <td>0.03100</td>\n",
       "      <td>2004.0</td>\n",
       "      <td>Radial Velocity</td>\n",
       "      <td>tau Gem</td>\n",
       "    </tr>\n",
       "    <tr>\n",
       "      <th>1161</th>\n",
       "      <td>ups And b</td>\n",
       "      <td>Confirmed</td>\n",
       "      <td>0.620</td>\n",
       "      <td>4.61711</td>\n",
       "      <td>0.0590</td>\n",
       "      <td>0.01186</td>\n",
       "      <td>1996.0</td>\n",
       "      <td>Radial Velocity</td>\n",
       "      <td>ups And</td>\n",
       "    </tr>\n",
       "    <tr>\n",
       "      <th>1162</th>\n",
       "      <td>ups And c</td>\n",
       "      <td>Confirmed</td>\n",
       "      <td>9.100</td>\n",
       "      <td>240.93700</td>\n",
       "      <td>0.8610</td>\n",
       "      <td>0.24450</td>\n",
       "      <td>1999.0</td>\n",
       "      <td>Radial Velocity</td>\n",
       "      <td>ups And</td>\n",
       "    </tr>\n",
       "    <tr>\n",
       "      <th>1163</th>\n",
       "      <td>ups And d</td>\n",
       "      <td>Confirmed</td>\n",
       "      <td>23.580</td>\n",
       "      <td>1281.43900</td>\n",
       "      <td>2.5500</td>\n",
       "      <td>0.31600</td>\n",
       "      <td>1999.0</td>\n",
       "      <td>Radial Velocity</td>\n",
       "      <td>ups And</td>\n",
       "    </tr>\n",
       "    <tr>\n",
       "      <th>1164</th>\n",
       "      <td>ups And e</td>\n",
       "      <td>Confirmed</td>\n",
       "      <td>1.059</td>\n",
       "      <td>3848.86000</td>\n",
       "      <td>5.2456</td>\n",
       "      <td>0.00536</td>\n",
       "      <td>2010.0</td>\n",
       "      <td>Radial Velocity</td>\n",
       "      <td>ups And</td>\n",
       "    </tr>\n",
       "  </tbody>\n",
       "</table>\n",
       "<p>1165 rows × 9 columns</p>\n",
       "</div>"
      ],
      "text/plain": [
       "          # name planet_status    mass  orbital_period  semi_major_axis  \\\n",
       "0       11 Com b     Confirmed  19.400       326.03000           1.2900   \n",
       "1       11 UMi b     Confirmed  10.500       516.22000           1.5400   \n",
       "2       14 And b     Confirmed   5.330       185.84000           0.8300   \n",
       "3       14 Her b     Confirmed   4.640      1773.40000           2.7700   \n",
       "4     16 Cyg B b     Confirmed   1.680       799.50000           1.6800   \n",
       "...          ...           ...     ...             ...              ...   \n",
       "1160   tau Gem b     Confirmed  20.600       305.50000           1.1700   \n",
       "1161   ups And b     Confirmed   0.620         4.61711           0.0590   \n",
       "1162   ups And c     Confirmed   9.100       240.93700           0.8610   \n",
       "1163   ups And d     Confirmed  23.580      1281.43900           2.5500   \n",
       "1164   ups And e     Confirmed   1.059      3848.86000           5.2456   \n",
       "\n",
       "      eccentricity  discovered   detection_type star_name  \n",
       "0          0.23100      2008.0  Radial Velocity    11 Com  \n",
       "1          0.08000      2009.0  Radial Velocity    11 UMi  \n",
       "2          0.00000      2008.0  Radial Velocity    14 And  \n",
       "3          0.36900      2002.0  Radial Velocity    14 Her  \n",
       "4          0.68900      1996.0  Radial Velocity  16 Cyg B  \n",
       "...            ...         ...              ...       ...  \n",
       "1160       0.03100      2004.0  Radial Velocity   tau Gem  \n",
       "1161       0.01186      1996.0  Radial Velocity   ups And  \n",
       "1162       0.24450      1999.0  Radial Velocity   ups And  \n",
       "1163       0.31600      1999.0  Radial Velocity   ups And  \n",
       "1164       0.00536      2010.0  Radial Velocity   ups And  \n",
       "\n",
       "[1165 rows x 9 columns]"
      ]
     },
     "execution_count": 32,
     "metadata": {},
     "output_type": "execute_result"
    }
   ],
   "source": [
    "exoplanet_df"
   ]
  },
  {
   "cell_type": "code",
   "execution_count": 33,
   "metadata": {},
   "outputs": [],
   "source": [
    "exoplanet_df.to_csv('cleaned_exoplanet.csv')"
   ]
  },
  {
   "cell_type": "code",
   "execution_count": 37,
   "metadata": {},
   "outputs": [],
   "source": [
    "place2 = pd.read_csv('Resources/star.txt')"
   ]
  },
  {
   "cell_type": "code",
   "execution_count": 49,
   "metadata": {},
   "outputs": [],
   "source": [
    "star = place2.drop(columns=['Unnamed: 0','Unnamed: 8','multiple'])"
   ]
  },
  {
   "cell_type": "code",
   "execution_count": 57,
   "metadata": {},
   "outputs": [],
   "source": [
    "star_df = star.copy()"
   ]
  },
  {
   "cell_type": "code",
   "execution_count": 58,
   "metadata": {},
   "outputs": [],
   "source": [
    "star_df.to_csv('cleaned_star.csv')"
   ]
  },
  {
   "cell_type": "code",
   "execution_count": 73,
   "metadata": {},
   "outputs": [],
   "source": [
    "place3 = pd.read_csv('Resources/ustar.csv')"
   ]
  },
  {
   "cell_type": "code",
   "execution_count": 78,
   "metadata": {
    "scrolled": true
   },
   "outputs": [],
   "source": [
    "s2 = place3[['Star','Right','Declination','Spectral']]"
   ]
  },
  {
   "cell_type": "code",
   "execution_count": 81,
   "metadata": {},
   "outputs": [],
   "source": [
    "s2 = s2.rename(columns = {'Star':'name','Right':'ra','Declination':'dec','Spectral':'class'})"
   ]
  },
  {
   "cell_type": "code",
   "execution_count": 80,
   "metadata": {},
   "outputs": [
    {
     "data": {
      "text/html": [
       "<div>\n",
       "<style scoped>\n",
       "    .dataframe tbody tr th:only-of-type {\n",
       "        vertical-align: middle;\n",
       "    }\n",
       "\n",
       "    .dataframe tbody tr th {\n",
       "        vertical-align: top;\n",
       "    }\n",
       "\n",
       "    .dataframe thead th {\n",
       "        text-align: right;\n",
       "    }\n",
       "</style>\n",
       "<table border=\"1\" class=\"dataframe\">\n",
       "  <thead>\n",
       "    <tr style=\"text-align: right;\">\n",
       "      <th></th>\n",
       "      <th>name</th>\n",
       "      <th>alt_name</th>\n",
       "      <th>ra</th>\n",
       "      <th>dec</th>\n",
       "      <th>vmag</th>\n",
       "      <th>class</th>\n",
       "    </tr>\n",
       "  </thead>\n",
       "  <tbody>\n",
       "    <tr>\n",
       "      <th>0</th>\n",
       "      <td>HR 7228</td>\n",
       "      <td>Sig Oct</td>\n",
       "      <td>21 08 46.20</td>\n",
       "      <td>-88 57 23.0</td>\n",
       "      <td>5.47</td>\n",
       "      <td>STAR ...</td>\n",
       "    </tr>\n",
       "    <tr>\n",
       "      <th>1</th>\n",
       "      <td>HR 8294</td>\n",
       "      <td></td>\n",
       "      <td>22 45 28.61</td>\n",
       "      <td>-88 49 05.9</td>\n",
       "      <td>6.57</td>\n",
       "      <td>STAR...</td>\n",
       "    </tr>\n",
       "    <tr>\n",
       "      <th>2</th>\n",
       "      <td>HR 5491</td>\n",
       "      <td></td>\n",
       "      <td>15 28 19.10</td>\n",
       "      <td>-88 07 59.2</td>\n",
       "      <td>6.48</td>\n",
       "      <td>ST...</td>\n",
       "    </tr>\n",
       "    <tr>\n",
       "      <th>3</th>\n",
       "      <td>HR 6721</td>\n",
       "      <td>Chi Oct</td>\n",
       "      <td>18 54 46.90</td>\n",
       "      <td>-87 36 20.9</td>\n",
       "      <td>5.28</td>\n",
       "      <td>STAR ...</td>\n",
       "    </tr>\n",
       "    <tr>\n",
       "      <th>4</th>\n",
       "      <td>HR 6133</td>\n",
       "      <td></td>\n",
       "      <td>17 15 59.30</td>\n",
       "      <td>-87 33 59.0</td>\n",
       "      <td>6.57</td>\n",
       "      <td>STAR ...</td>\n",
       "    </tr>\n",
       "    <tr>\n",
       "      <th>...</th>\n",
       "      <td>...</td>\n",
       "      <td>...</td>\n",
       "      <td>...</td>\n",
       "      <td>...</td>\n",
       "      <td>...</td>\n",
       "      <td>...</td>\n",
       "    </tr>\n",
       "    <tr>\n",
       "      <th>2995</th>\n",
       "      <td>HR 3381</td>\n",
       "      <td></td>\n",
       "      <td>08 33 04.80</td>\n",
       "      <td>-24 36 23.0</td>\n",
       "      <td>6.19</td>\n",
       "      <td>STAR...</td>\n",
       "    </tr>\n",
       "    <tr>\n",
       "      <th>2996</th>\n",
       "      <td>HR 8235</td>\n",
       "      <td></td>\n",
       "      <td>21 32 33.31</td>\n",
       "      <td>-24 35 26.2</td>\n",
       "      <td>6.43</td>\n",
       "      <td>STA...</td>\n",
       "    </tr>\n",
       "    <tr>\n",
       "      <th>2997</th>\n",
       "      <td>HR 844</td>\n",
       "      <td>Gam1For</td>\n",
       "      <td>02 49 51.00</td>\n",
       "      <td>-24 33 37.1</td>\n",
       "      <td>6.14</td>\n",
       "      <td>STAR ...</td>\n",
       "    </tr>\n",
       "    <tr>\n",
       "      <th>2998</th>\n",
       "      <td>HR 2781</td>\n",
       "      <td>29    CMa</td>\n",
       "      <td>07 18 40.30</td>\n",
       "      <td>-24 33 32.0</td>\n",
       "      <td>4.98</td>\n",
       "      <td>STA...</td>\n",
       "    </tr>\n",
       "    <tr>\n",
       "      <th>2999</th>\n",
       "      <td>HR 2578</td>\n",
       "      <td></td>\n",
       "      <td>06 53 55.30</td>\n",
       "      <td>-24 32 21.1</td>\n",
       "      <td>6.21</td>\n",
       "      <td>ST...</td>\n",
       "    </tr>\n",
       "  </tbody>\n",
       "</table>\n",
       "<p>3000 rows × 6 columns</p>\n",
       "</div>"
      ],
      "text/plain": [
       "      name     alt_name   ra           dec          vmag   \\\n",
       "0     HR 7228  Sig Oct    21 08 46.20  -88 57 23.0   5.47   \n",
       "1     HR 8294             22 45 28.61  -88 49 05.9   6.57   \n",
       "2     HR 5491             15 28 19.10  -88 07 59.2   6.48   \n",
       "3     HR 6721  Chi Oct    18 54 46.90  -87 36 20.9   5.28   \n",
       "4     HR 6133             17 15 59.30  -87 33 59.0   6.57   \n",
       "...       ...        ...          ...          ...    ...   \n",
       "2995  HR 3381             08 33 04.80  -24 36 23.0   6.19   \n",
       "2996  HR 8235             21 32 33.31  -24 35 26.2   6.43   \n",
       "2997  HR 844   Gam1For    02 49 51.00  -24 33 37.1   6.14   \n",
       "2998  HR 2781  29    CMa  07 18 40.30  -24 33 32.0   4.98   \n",
       "2999  HR 2578             06 53 55.30  -24 32 21.1   6.21   \n",
       "\n",
       "     class                                                \n",
       "0                                              STAR ...   \n",
       "1                                               STAR...   \n",
       "2                                                 ST...   \n",
       "3                                              STAR ...   \n",
       "4                                              STAR ...   \n",
       "...                                                 ...   \n",
       "2995                                            STAR...   \n",
       "2996                                             STA...   \n",
       "2997                                           STAR ...   \n",
       "2998                                             STA...   \n",
       "2999                                              ST...   \n",
       "\n",
       "[3000 rows x 6 columns]"
      ]
     },
     "execution_count": 80,
     "metadata": {},
     "output_type": "execute_result"
    }
   ],
   "source": [
    "star_df"
   ]
  },
  {
   "cell_type": "code",
   "execution_count": 85,
   "metadata": {},
   "outputs": [],
   "source": [
    "s2 = s2.dropna().reset_index()"
   ]
  },
  {
   "cell_type": "code",
   "execution_count": 87,
   "metadata": {},
   "outputs": [],
   "source": [
    "s2 = s2[['name','ra','dec','class']]"
   ]
  },
  {
   "cell_type": "code",
   "execution_count": 109,
   "metadata": {},
   "outputs": [
    {
     "data": {
      "text/plain": [
       "Index(['name   ', 'alt_name ', 'ra         ', 'dec        ', 'vmag ',\n",
       "       'class                                              '],\n",
       "      dtype='object')"
      ]
     },
     "execution_count": 109,
     "metadata": {},
     "output_type": "execute_result"
    }
   ],
   "source": [
    "star_df.columns"
   ]
  },
  {
   "cell_type": "code",
   "execution_count": 110,
   "metadata": {},
   "outputs": [],
   "source": [
    "star_df = star_df.rename(columns = {'name   ':'name','alt_name ':'alt_name','ra         ':'ra','dec        ':'dec','vmag ':'vmag','class                                              ':'class'})"
   ]
  },
  {
   "cell_type": "code",
   "execution_count": 111,
   "metadata": {},
   "outputs": [],
   "source": [
    "s1 = star_df[['name','ra','dec','class']]"
   ]
  },
  {
   "cell_type": "code",
   "execution_count": 118,
   "metadata": {},
   "outputs": [],
   "source": [
    "cleaned_star_df = pd.concat([s1,s2])"
   ]
  },
  {
   "cell_type": "code",
   "execution_count": 120,
   "metadata": {},
   "outputs": [],
   "source": [
    "cleaned_star_df = cleaned_star_df.reset_index()"
   ]
  },
  {
   "cell_type": "code",
   "execution_count": 122,
   "metadata": {},
   "outputs": [],
   "source": [
    "cleaned_star_df =  cleaned_star_df[['name','ra','dec','class']]"
   ]
  },
  {
   "cell_type": "code",
   "execution_count": 126,
   "metadata": {},
   "outputs": [],
   "source": [
    "cleaned_star_df = cleaned_star_df.drop_duplicates(subset=['name']).reset_index()"
   ]
  },
  {
   "cell_type": "code",
   "execution_count": 128,
   "metadata": {},
   "outputs": [],
   "source": [
    "cleaned_star_df = cleaned_star_df[['name','ra','dec','class']]"
   ]
  },
  {
   "cell_type": "code",
   "execution_count": 130,
   "metadata": {},
   "outputs": [],
   "source": [
    "cleaned_star_df.to_csv('cleaned_star.csv')"
   ]
  },
  {
   "cell_type": "code",
   "execution_count": 132,
   "metadata": {},
   "outputs": [],
   "source": [
    "morestars = pd.read_csv('Resources/more_stars.csv')"
   ]
  },
  {
   "cell_type": "code",
   "execution_count": 143,
   "metadata": {},
   "outputs": [
    {
     "data": {
      "text/plain": [
       "Index(['star_name', 'hip_name', 'hd_name', 'gj_name', 'tm_name',\n",
       "       'st_exocatflag', 'st_coronagflag', 'st_starshadeflag', 'st_wfirstflag',\n",
       "       'st_lbtiflag', 'st_rvflag', 'st_ppnum', 'rastr', 'ra', 'decstr', 'dec',\n",
       "       'st_dist', 'st_disterr1', 'st_disterr2', 'st_vmag', 'st_vmagerr',\n",
       "       'st_bmv', 'st_bmverr', 'st_spttype', 'st_lbol', 'st_lbolerr'],\n",
       "      dtype='object')"
      ]
     },
     "execution_count": 143,
     "metadata": {},
     "output_type": "execute_result"
    }
   ],
   "source": [
    "morestars.columns"
   ]
  },
  {
   "cell_type": "code",
   "execution_count": 144,
   "metadata": {},
   "outputs": [],
   "source": [
    "morestars_df = morestars[['star_name','ra','dec','st_spttype']].copy()"
   ]
  },
  {
   "cell_type": "code",
   "execution_count": 154,
   "metadata": {},
   "outputs": [],
   "source": [
    "morestars_df = morestars_df.rename(columns={'st_spttype':'class','star_name':'name'})"
   ]
  },
  {
   "cell_type": "code",
   "execution_count": 155,
   "metadata": {},
   "outputs": [],
   "source": [
    "s3 = morestars_df.dropna()"
   ]
  },
  {
   "cell_type": "code",
   "execution_count": 176,
   "metadata": {},
   "outputs": [],
   "source": [
    "cleaned_stars_df = pd.concat([s1,s2,s3])"
   ]
  },
  {
   "cell_type": "code",
   "execution_count": 177,
   "metadata": {},
   "outputs": [],
   "source": [
    "cleaned_stars_df = cleaned_stars_df.drop_duplicates(subset=['name']).reset_index()"
   ]
  },
  {
   "cell_type": "code",
   "execution_count": 182,
   "metadata": {},
   "outputs": [
    {
     "data": {
      "text/html": [
       "<div>\n",
       "<style scoped>\n",
       "    .dataframe tbody tr th:only-of-type {\n",
       "        vertical-align: middle;\n",
       "    }\n",
       "\n",
       "    .dataframe tbody tr th {\n",
       "        vertical-align: top;\n",
       "    }\n",
       "\n",
       "    .dataframe thead th {\n",
       "        text-align: right;\n",
       "    }\n",
       "</style>\n",
       "<table border=\"1\" class=\"dataframe\">\n",
       "  <thead>\n",
       "    <tr style=\"text-align: right;\">\n",
       "      <th></th>\n",
       "      <th>index</th>\n",
       "      <th>name</th>\n",
       "      <th>ra</th>\n",
       "      <th>dec</th>\n",
       "      <th>class</th>\n",
       "    </tr>\n",
       "  </thead>\n",
       "  <tbody>\n",
       "    <tr>\n",
       "      <th>0</th>\n",
       "      <td>0</td>\n",
       "      <td>HR 7228</td>\n",
       "      <td>21 08 46.20</td>\n",
       "      <td>-88 57 23.0</td>\n",
       "      <td>STAR F0III</td>\n",
       "    </tr>\n",
       "    <tr>\n",
       "      <th>1</th>\n",
       "      <td>1</td>\n",
       "      <td>HR 8294</td>\n",
       "      <td>22 45 28.61</td>\n",
       "      <td>-88 49 05.9</td>\n",
       "      <td>STAR F0IV</td>\n",
       "    </tr>\n",
       "    <tr>\n",
       "      <th>2</th>\n",
       "      <td>2</td>\n",
       "      <td>HR 5491</td>\n",
       "      <td>15 28 19.10</td>\n",
       "      <td>-88 07 59.2</td>\n",
       "      <td>STAR A0</td>\n",
       "    </tr>\n",
       "    <tr>\n",
       "      <th>3</th>\n",
       "      <td>3</td>\n",
       "      <td>HR 6721</td>\n",
       "      <td>18 54 46.90</td>\n",
       "      <td>-87 36 20.9</td>\n",
       "      <td>STAR K3III</td>\n",
       "    </tr>\n",
       "    <tr>\n",
       "      <th>4</th>\n",
       "      <td>4</td>\n",
       "      <td>HR 6133</td>\n",
       "      <td>17 15 59.30</td>\n",
       "      <td>-87 33 59.0</td>\n",
       "      <td>STAR G5III</td>\n",
       "    </tr>\n",
       "  </tbody>\n",
       "</table>\n",
       "</div>"
      ],
      "text/plain": [
       "   index     name           ra          dec       class\n",
       "0      0  HR 7228  21 08 46.20  -88 57 23.0  STAR F0III\n",
       "1      1  HR 8294  22 45 28.61  -88 49 05.9   STAR F0IV\n",
       "2      2  HR 5491  15 28 19.10  -88 07 59.2     STAR A0\n",
       "3      3  HR 6721  18 54 46.90  -87 36 20.9  STAR K3III\n",
       "4      4  HR 6133  17 15 59.30  -87 33 59.0  STAR G5III"
      ]
     },
     "execution_count": 182,
     "metadata": {},
     "output_type": "execute_result"
    }
   ],
   "source": [
    "cleaned_stars_df.head()"
   ]
  },
  {
   "cell_type": "code",
   "execution_count": 183,
   "metadata": {},
   "outputs": [],
   "source": [
    "cleaned_stars_df.to_csv('cleaned_stars.csv')"
   ]
  },
  {
   "cell_type": "code",
   "execution_count": 181,
   "metadata": {},
   "outputs": [],
   "source": [
    "cleaned_stars_df['class'] = cleaned_stars_df['class'].str.lstrip()"
   ]
  },
  {
   "cell_type": "code",
   "execution_count": 168,
   "metadata": {},
   "outputs": [
    {
     "data": {
      "text/html": [
       "<div>\n",
       "<style scoped>\n",
       "    .dataframe tbody tr th:only-of-type {\n",
       "        vertical-align: middle;\n",
       "    }\n",
       "\n",
       "    .dataframe tbody tr th {\n",
       "        vertical-align: top;\n",
       "    }\n",
       "\n",
       "    .dataframe thead th {\n",
       "        text-align: right;\n",
       "    }\n",
       "</style>\n",
       "<table border=\"1\" class=\"dataframe\">\n",
       "  <thead>\n",
       "    <tr style=\"text-align: right;\">\n",
       "      <th></th>\n",
       "      <th># name</th>\n",
       "      <th>planet_status</th>\n",
       "      <th>mass</th>\n",
       "      <th>orbital_period</th>\n",
       "      <th>semi_major_axis</th>\n",
       "      <th>eccentricity</th>\n",
       "      <th>discovered</th>\n",
       "      <th>detection_type</th>\n",
       "      <th>star_name</th>\n",
       "    </tr>\n",
       "  </thead>\n",
       "  <tbody>\n",
       "    <tr>\n",
       "      <th>0</th>\n",
       "      <td>11 Com b</td>\n",
       "      <td>Confirmed</td>\n",
       "      <td>19.40</td>\n",
       "      <td>326.03</td>\n",
       "      <td>1.29</td>\n",
       "      <td>0.231</td>\n",
       "      <td>2008.0</td>\n",
       "      <td>Radial Velocity</td>\n",
       "      <td>11 Com</td>\n",
       "    </tr>\n",
       "    <tr>\n",
       "      <th>1</th>\n",
       "      <td>11 UMi b</td>\n",
       "      <td>Confirmed</td>\n",
       "      <td>10.50</td>\n",
       "      <td>516.22</td>\n",
       "      <td>1.54</td>\n",
       "      <td>0.080</td>\n",
       "      <td>2009.0</td>\n",
       "      <td>Radial Velocity</td>\n",
       "      <td>11 UMi</td>\n",
       "    </tr>\n",
       "    <tr>\n",
       "      <th>2</th>\n",
       "      <td>14 And b</td>\n",
       "      <td>Confirmed</td>\n",
       "      <td>5.33</td>\n",
       "      <td>185.84</td>\n",
       "      <td>0.83</td>\n",
       "      <td>0.000</td>\n",
       "      <td>2008.0</td>\n",
       "      <td>Radial Velocity</td>\n",
       "      <td>14 And</td>\n",
       "    </tr>\n",
       "    <tr>\n",
       "      <th>3</th>\n",
       "      <td>14 Her b</td>\n",
       "      <td>Confirmed</td>\n",
       "      <td>4.64</td>\n",
       "      <td>1773.40</td>\n",
       "      <td>2.77</td>\n",
       "      <td>0.369</td>\n",
       "      <td>2002.0</td>\n",
       "      <td>Radial Velocity</td>\n",
       "      <td>14 Her</td>\n",
       "    </tr>\n",
       "    <tr>\n",
       "      <th>4</th>\n",
       "      <td>16 Cyg B b</td>\n",
       "      <td>Confirmed</td>\n",
       "      <td>1.68</td>\n",
       "      <td>799.50</td>\n",
       "      <td>1.68</td>\n",
       "      <td>0.689</td>\n",
       "      <td>1996.0</td>\n",
       "      <td>Radial Velocity</td>\n",
       "      <td>16 Cyg B</td>\n",
       "    </tr>\n",
       "  </tbody>\n",
       "</table>\n",
       "</div>"
      ],
      "text/plain": [
       "       # name planet_status   mass  orbital_period  semi_major_axis  \\\n",
       "0    11 Com b     Confirmed  19.40          326.03             1.29   \n",
       "1    11 UMi b     Confirmed  10.50          516.22             1.54   \n",
       "2    14 And b     Confirmed   5.33          185.84             0.83   \n",
       "3    14 Her b     Confirmed   4.64         1773.40             2.77   \n",
       "4  16 Cyg B b     Confirmed   1.68          799.50             1.68   \n",
       "\n",
       "   eccentricity  discovered   detection_type star_name  \n",
       "0         0.231      2008.0  Radial Velocity    11 Com  \n",
       "1         0.080      2009.0  Radial Velocity    11 UMi  \n",
       "2         0.000      2008.0  Radial Velocity    14 And  \n",
       "3         0.369      2002.0  Radial Velocity    14 Her  \n",
       "4         0.689      1996.0  Radial Velocity  16 Cyg B  "
      ]
     },
     "execution_count": 168,
     "metadata": {},
     "output_type": "execute_result"
    }
   ],
   "source": [
    "exoplanet_df.head()"
   ]
  },
  {
   "cell_type": "code",
   "execution_count": 169,
   "metadata": {},
   "outputs": [
    {
     "data": {
      "text/plain": [
       "0       19.400\n",
       "1       10.500\n",
       "2        5.330\n",
       "3        4.640\n",
       "4        1.680\n",
       "         ...  \n",
       "1160    20.600\n",
       "1161     0.620\n",
       "1162     9.100\n",
       "1163    23.580\n",
       "1164     1.059\n",
       "Name: mass, Length: 1165, dtype: float64"
      ]
     },
     "execution_count": 169,
     "metadata": {},
     "output_type": "execute_result"
    }
   ],
   "source": [
    "pd.to_numeric(exoplanet_df['mass'])"
   ]
  },
  {
   "cell_type": "code",
   "execution_count": 170,
   "metadata": {},
   "outputs": [
    {
     "data": {
      "text/plain": [
       "0       2008.0\n",
       "1       2009.0\n",
       "2       2008.0\n",
       "3       2002.0\n",
       "4       1996.0\n",
       "         ...  \n",
       "1160    2004.0\n",
       "1161    1996.0\n",
       "1162    1999.0\n",
       "1163    1999.0\n",
       "1164    2010.0\n",
       "Name: discovered, Length: 1165, dtype: float64"
      ]
     },
     "execution_count": 170,
     "metadata": {},
     "output_type": "execute_result"
    }
   ],
   "source": [
    "pd.to_numeric(exoplanet_df['orbital_period'])\n",
    "pd.to_numeric(exoplanet_df['semi_major_axis'])\n",
    "pd.to_numeric(exoplanet_df['eccentricity'])\n",
    "pd.to_numeric(exoplanet_df['discovered'])"
   ]
  },
  {
   "cell_type": "code",
   "execution_count": 172,
   "metadata": {},
   "outputs": [],
   "source": [
    "exoplanet_df.to_csv('exoplanet.csv')"
   ]
  },
  {
   "cell_type": "code",
   "execution_count": null,
   "metadata": {},
   "outputs": [],
   "source": []
  }
 ],
 "metadata": {
  "kernelspec": {
   "display_name": "Python 3",
   "language": "python",
   "name": "python3"
  },
  "language_info": {
   "codemirror_mode": {
    "name": "ipython",
    "version": 3
   },
   "file_extension": ".py",
   "mimetype": "text/x-python",
   "name": "python",
   "nbconvert_exporter": "python",
   "pygments_lexer": "ipython3",
   "version": "3.8.5"
  }
 },
 "nbformat": 4,
 "nbformat_minor": 4
}
